{
 "cells": [
  {
   "cell_type": "markdown",
   "metadata": {},
   "source": [
    "# Web Scraping\n",
    "Web scraping Seek.co.nz for job listings"
   ]
  },
  {
   "cell_type": "code",
   "execution_count": 1,
   "metadata": {},
   "outputs": [],
   "source": [
    "import pandas as pd\n",
    "import requests\n",
    "from bs4 import BeautifulSoup"
   ]
  },
  {
   "cell_type": "markdown",
   "metadata": {},
   "source": [
    "Below, I've created a function which draws on the BeautifulSoup library.\n",
    "\n",
    "The function I've defined scrapes multiple web pages for raw HTML data, parses the raw data into meaningful insights on job postings, and organises the insights into a dictionary so that it can easily be converted into a CSV file. "
   ]
  },
  {
   "cell_type": "code",
   "execution_count": 4,
   "metadata": {},
   "outputs": [],
   "source": [
    "# Defining a function named 'extract' which parses HTML data (job, company, industry, region, summary, etc) from multiple pages and \n",
    "# organises the data into a dictionary for easy conversion to CSV.\n",
    "\n",
    "def extract(current, max):\n",
    "    joblist = []\n",
    "    max_page = max\n",
    "    current_page = current\n",
    "    while current_page <= max_page:\n",
    "        current_url = f'https://www.seek.co.nz/data-analyst-jobs?page={current_page}'\n",
    "        print(current_url)\n",
    "        r = requests.get(current_url)\n",
    "        soup = BeautifulSoup(r.content, 'lxml')\n",
    "        div = soup.find_all('article', class_ = 'yvsb870 yvsb871 h3f08h1 _14uh9946i _14uh9947i _14uh9949m _14uh9948m _14uh9945a h3f08h5')\n",
    "        for item in div:\n",
    "            role = item.find('a', {'data-automation':'jobTitle'}).text\n",
    "            company = item.find('a', {'data-automation':'jobCompany'}).text\n",
    "            when_posted = item.find('span', {'data-automation':'jobListingDate'}).text\n",
    "            try:\n",
    "                sector = item.find('a', {'data-automation':'jobClassification'}).text\n",
    "            except:\n",
    "                sector = ''\n",
    "            try:\n",
    "                industry = item.find('a', {'data-automation':'jobSubClassification'}).text\n",
    "            except:\n",
    "                industry = ''\n",
    "            try:\n",
    "                region = item.find('a', {'data-automation':'jobLocation'}).text\n",
    "            except:\n",
    "                region = ''\n",
    "            try:\n",
    "                district = item.find('a',{'data-automation':'jobArea'}).text\n",
    "            except:\n",
    "                district = ''\n",
    "            try:\n",
    "                salary = item.find('span', {'data-automation':'jobSalary'}).text\n",
    "            except:\n",
    "                salary = ''\n",
    "            try:\n",
    "                summary = item.find('span', {'data-automation':'jobShortDescription'}).text.replace('•','')\n",
    "            except:\n",
    "                summary = ''\n",
    "            job = {\n",
    "                'role': role,\n",
    "                'company': company,\n",
    "                'when_posted': when_posted,\n",
    "                'sector': sector,\n",
    "                'industry': industry,\n",
    "                'region': region,\n",
    "                'district': district,\n",
    "                'salary': salary,\n",
    "                'summary': summary\n",
    "                }\n",
    "            joblist.append(job)\n",
    "        current_page += 1\n",
    "    \n",
    "    return(joblist)\n"
   ]
  },
  {
   "cell_type": "code",
   "execution_count": 5,
   "metadata": {},
   "outputs": [
    {
     "name": "stdout",
     "output_type": "stream",
     "text": [
      "https://www.seek.co.nz/data-analyst-jobs?page=1\n",
      "https://www.seek.co.nz/data-analyst-jobs?page=2\n",
      "https://www.seek.co.nz/data-analyst-jobs?page=3\n",
      "https://www.seek.co.nz/data-analyst-jobs?page=4\n",
      "https://www.seek.co.nz/data-analyst-jobs?page=5\n",
      "https://www.seek.co.nz/data-analyst-jobs?page=6\n",
      "https://www.seek.co.nz/data-analyst-jobs?page=7\n",
      "https://www.seek.co.nz/data-analyst-jobs?page=8\n",
      "https://www.seek.co.nz/data-analyst-jobs?page=9\n",
      "https://www.seek.co.nz/data-analyst-jobs?page=10\n"
     ]
    }
   ],
   "source": [
    "# Inserting the page number to start with, and end page number into the extract function, in order to extract data analyst job insights\n",
    "# (URL links in blue show the pages loaded in real time)\n",
    "df = extract(1,10)"
   ]
  },
  {
   "cell_type": "code",
   "execution_count": 6,
   "metadata": {},
   "outputs": [],
   "source": [
    "# Converting the dictionary output from the extract function to a CSV file\n",
    "df = pd.DataFrame(df)\n",
    "df.to_csv('seek_data_analyst_10.csv')"
   ]
  },
  {
   "cell_type": "code",
   "execution_count": null,
   "metadata": {},
   "outputs": [],
   "source": []
  }
 ],
 "metadata": {
  "kernelspec": {
   "display_name": "Python 3.10.1 ('myenv2')",
   "language": "python",
   "name": "python3"
  },
  "language_info": {
   "codemirror_mode": {
    "name": "ipython",
    "version": 3
   },
   "file_extension": ".py",
   "mimetype": "text/x-python",
   "name": "python",
   "nbconvert_exporter": "python",
   "pygments_lexer": "ipython3",
   "version": "3.10.1"
  },
  "orig_nbformat": 4,
  "vscode": {
   "interpreter": {
    "hash": "00ca84e99b435afedd905a69e8ffef0e0341743a3515c0ac0ff3c8b2a7704b48"
   }
  }
 },
 "nbformat": 4,
 "nbformat_minor": 2
}
